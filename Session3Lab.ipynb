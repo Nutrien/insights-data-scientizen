{
 "cells": [
  {
   "cell_type": "markdown",
   "source": [
    "Install missing required packages"
   ],
   "metadata": {}
  },
  {
   "cell_type": "code",
   "execution_count": null,
   "source": [
    "!conda install -c conda-forge xgboost shap -y"
   ],
   "outputs": [],
   "metadata": {}
  },
  {
   "cell_type": "markdown",
   "source": [
    "Import packages used throughout notebook"
   ],
   "metadata": {}
  },
  {
   "cell_type": "code",
   "execution_count": null,
   "source": [
    "import pandas as pd\r\n",
    "import xgboost as xgb\r\n",
    "import matplotlib.pyplot as plt"
   ],
   "outputs": [],
   "metadata": {}
  },
  {
   "cell_type": "markdown",
   "source": [
    "# Regression"
   ],
   "metadata": {}
  },
  {
   "cell_type": "markdown",
   "source": [
    "## Data Preparation\r\n",
    "We are going to create a function that splits our data into a training set and a test set. 80% of the data will be used for the training set and the remaining 20% will be used for the test set."
   ],
   "metadata": {}
  },
  {
   "cell_type": "code",
   "execution_count": null,
   "source": [
    "from sklearn.model_selection import train_test_split\r\n",
    "def prepare_data(data, target):\r\n",
    "    # Seperate the predictor variables (X) from the target variable (y) and into their own dataframes\r\n",
    "    X = data.drop(target, axis=1)\r\n",
    "    y = data[target]\r\n",
    "    \r\n",
    "    # Create a training and test set for the predictor and target variables\r\n",
    "    X_train, X_test, y_train, y_test = train_test_split(X, y, test_size=0.8)\r\n",
    "    \r\n",
    "    return X_train, X_test, y_train, y_test"
   ],
   "outputs": [],
   "metadata": {}
  },
  {
   "cell_type": "markdown",
   "source": [
    "We will load in our salary data and name the dataframe salary_data. We will also see what the data looks like by typing in our dataframe name on the line beneath the code to load in the data. This way we can get a snippet of the data to understand what it looks like. Run the cell below to load in the salary data and see what the data looks like."
   ],
   "metadata": {}
  },
  {
   "cell_type": "code",
   "execution_count": null,
   "source": [
    "salary_data = pd.read_csv('Salary.csv')\r\n",
    "salary_data"
   ],
   "outputs": [],
   "metadata": {}
  },
  {
   "cell_type": "markdown",
   "source": [
    "## Categorical Encoding\r\n",
    "Now we will use Label Encoding to convert our categorical variables (Profession and Equipment) to numerical variables. This is done so the ML model can make sense of the categorical variables. Run the cell below to categorically encode these variables and see what the dataset looks like after."
   ],
   "metadata": {}
  },
  {
   "cell_type": "code",
   "execution_count": null,
   "source": [
    "from sklearn.preprocessing import LabelEncoder\r\n",
    "profession_encoder = LabelEncoder()\r\n",
    "salary_data['Profession'] = profession_encoder.fit_transform(salary_data['Profession'])\r\n",
    "\r\n",
    "equipment_encoder = LabelEncoder()\r\n",
    "salary_data['Equipment'] = equipment_encoder.fit_transform(salary_data['Equipment'])\r\n",
    "\r\n",
    "salary_data"
   ],
   "outputs": [],
   "metadata": {}
  },
  {
   "cell_type": "markdown",
   "source": [
    "## Splitting Data\r\n",
    "Now we will prepare our data by splitting it into training and test sets using the function we made earlier. In order to understand exactly what this function does, we will also see what the X_train, y_train, X_test, y_test datasets in that order. You will notice that the X_train and X_test datasets are all the predictor variables and the y_test and y_train datset is the target variable (Salary)."
   ],
   "metadata": {}
  },
  {
   "cell_type": "code",
   "execution_count": null,
   "source": [
    "X_train, X_test, y_train, y_test = prepare_data(salary_data, 'Salary')\r\n",
    "display(X_train,y_train,X_test,y_test)"
   ],
   "outputs": [],
   "metadata": {}
  },
  {
   "cell_type": "markdown",
   "source": [
    "## Linear Regression Model\r\n",
    "Now we will run a linear regression model on our prepared dataset below. We will evaluate this model with 4 metrics: mean absolute error, mean squared error, root mean squared error and the R2 score. Run the cell below to create the model, train it, and generate predictions."
   ],
   "metadata": {}
  },
  {
   "cell_type": "code",
   "execution_count": null,
   "source": [
    "from sklearn.linear_model import LinearRegression\r\n",
    "from sklearn.metrics import mean_absolute_error, mean_squared_error, r2_score\r\n",
    "model = LinearRegression() # create model\r\n",
    "model.fit(X_train, y_train) # train model\r\n",
    "pred = model.predict(X_test) # generate predictions"
   ],
   "outputs": [],
   "metadata": {}
  },
  {
   "cell_type": "markdown",
   "source": [
    "Let's take a look at a sample prediction by our model. Run the cell below to look at the input, the predicted salary, the actual salary, and the error."
   ],
   "metadata": {}
  },
  {
   "cell_type": "code",
   "execution_count": null,
   "source": [
    "import math\r\n",
    "\r\n",
    "print(f\"Input:\\n{X_test.iloc[0]}\\n\")\r\n",
    "print(f\"Predicted salary: ${pred[0]}\")\r\n",
    "print(f\"Actual salary: ${y_test[0]}\")\r\n",
    "print(f\"Absolute error: ${abs(pred[0] - y_test[0])}\")\r\n",
    "print(f\"Squared error: {(pred[0] - y_test[0]) ** 2}\")"
   ],
   "outputs": [],
   "metadata": {}
  },
  {
   "cell_type": "markdown",
   "source": [
    "The cell below will evaluate the model with the 4 metrics, and print the equation of the model. "
   ],
   "metadata": {}
  },
  {
   "cell_type": "code",
   "execution_count": null,
   "source": [
    "mae = mean_absolute_error(y_test, pred)\r\n",
    "mse = mean_squared_error(y_test, pred)\r\n",
    "rmse = mean_squared_error(y_test, pred, squared=False)\r\n",
    "r2 = r2_score(y_test, pred)\r\n",
    "\r\n",
    "coef = model.coef_\r\n",
    "intercept = model.intercept_\r\n",
    "cols = X_train.columns\r\n",
    "\r\n",
    "print(f\"Mean Absolute Error: {mae}\")\r\n",
    "print(f\"Mean Squared Error: {mse}\")\r\n",
    "print(f\"Root Mean Squared Error: {rmse}\")\r\n",
    "print(f\"R2: {r2}\")\r\n",
    "print(f\"\\nEquation for Regression Model:\")\r\n",
    "print(f\"Salary = {coef[0]}({cols[0]}) + {coef[1]}({cols[1]}) + {coef[2]}({cols[2]}) + {coef[3]}({cols[3]}) + {coef[4]}({cols[4]})\")"
   ],
   "outputs": [],
   "metadata": {}
  },
  {
   "cell_type": "markdown",
   "source": [
    "# Binary Classification (Credit)"
   ],
   "metadata": {}
  },
  {
   "cell_type": "markdown",
   "source": [
    "## Naive Rule\r\n",
    "We want to understand what the accuracy of a Naive Rule Model is, so we create a simple function to get us the accuracy for it. This is a simple and effective way to rule out any ML model that does not make value adding predictions."
   ],
   "metadata": {}
  },
  {
   "cell_type": "code",
   "execution_count": null,
   "source": [
    "def naive_rule_accuracy(y_train, y_test):\r\n",
    "    majority_class = y_train.value_counts().idxmax()\r\n",
    "\r\n",
    "    test_counts = y_test.value_counts()\r\n",
    "    accuracy_naive = test_counts[majority_class] / test_counts.sum()\r\n",
    "\r\n",
    "    print(f\"The accuracy of the Naive Model is: {accuracy_naive}\")"
   ],
   "outputs": [],
   "metadata": {}
  },
  {
   "cell_type": "markdown",
   "source": [
    "## Model Evaluation\r\n",
    "We want to create a function to automatically evaluate our models. We will be looking at accuracy, recall, percision, f1-score, confusion matrix and the ROC Curve"
   ],
   "metadata": {}
  },
  {
   "cell_type": "code",
   "execution_count": null,
   "source": [
    "from sklearn.metrics import accuracy_score, precision_score, recall_score, f1_score, plot_confusion_matrix, roc_auc_score\r\n",
    "import matplotlib.pyplot as plt\r\n",
    "\r\n",
    "def evaluate(model, X_test, y_test):\r\n",
    "    pred = model.predict(X_test)\r\n",
    "    # accuracy = correct_predictions / all_predictions \r\n",
    "    acc = accuracy_score(y_test, pred)\r\n",
    "\r\n",
    "    # true_positives / (true_positives + false_postives)\r\n",
    "    # how many positive predictions were true\r\n",
    "    prec = precision_score(y_test, pred, average='weighted')\r\n",
    "\r\n",
    "    # true_postives / (true_positives + false_negatives)\r\n",
    "    # how many postives out of all were identified\r\n",
    "    rec = recall_score(y_test, pred, average='weighted')\r\n",
    "\r\n",
    "    # harmonic mean of precision and recall\r\n",
    "    f1 = f1_score(y_test, pred, average='weighted')\r\n",
    "    \r\n",
    "    print(f\"accuracy: {acc}\")\r\n",
    "    print(f\"precision: {prec}\")\r\n",
    "    print(f\"recall: {rec}\")\r\n",
    "    print(f\"f1: {f1}\")\r\n",
    "    \r\n",
    "    try:\r\n",
    "        prob = model.predict_proba(X_test)\r\n",
    "        roc_auc = roc_auc_score(y_test, prob, multi_class='ovo')\r\n",
    "        print(f\"roc_auc: {roc_auc}\")\r\n",
    "    except:\r\n",
    "        pass\r\n",
    "    \r\n",
    "    fig, ax = plt.subplots(figsize=(10, 10))\r\n",
    "    plot_confusion_matrix(model, X_test, y_test, xticks_rotation='vertical', ax=ax)\r\n",
    "    ax.set_title('Confusion Matrix')\r\n",
    "    ax.set_ylabel('Actual labels')\r\n",
    "\r\n",
    "    \r\n",
    "    "
   ],
   "outputs": [],
   "metadata": {}
  },
  {
   "cell_type": "markdown",
   "source": [
    "## Data Preparation\r\n",
    "We will now look at credit data for another Binary Classification problem. We will load in the data as credit_data, veiw it and then split it similarly to the rice dataset. For this dataset we will be looking at payment history patterns for customers (the CustomerID field has been removed for anonymity) and try to predict if they will be credit risks or not."
   ],
   "metadata": {}
  },
  {
   "cell_type": "code",
   "execution_count": null,
   "source": [
    "credit_data = pd.read_csv('Company.csv')\r\n",
    "credit_data"
   ],
   "outputs": [],
   "metadata": {}
  },
  {
   "cell_type": "code",
   "execution_count": null,
   "source": [
    "X_train, X_test, y_train, y_test = prepare_data(credit_data, 'Risk')"
   ],
   "outputs": [],
   "metadata": {}
  },
  {
   "cell_type": "markdown",
   "source": [
    "## Naive Rule Benchmark\r\n",
    "Before we do any ML, lets look at the Naive Model accuracy. If a model cant beat the accuracy of the Naive Model, then there is no point in looking at it further."
   ],
   "metadata": {}
  },
  {
   "cell_type": "code",
   "execution_count": null,
   "source": [
    "naive_rule_accuracy(y_train, y_test)"
   ],
   "outputs": [],
   "metadata": {}
  },
  {
   "cell_type": "markdown",
   "source": [
    "# Logistic Regression Model\r\n",
    "Now lets run the model, like we did above and see if we get an improved output from the naive rule."
   ],
   "metadata": {}
  },
  {
   "cell_type": "code",
   "execution_count": null,
   "source": [
    "from sklearn.linear_model import LogisticRegression\r\n",
    "model = LogisticRegression()\r\n",
    "model.fit(X_train, y_train)\r\n",
    "evaluate(model, X_test, y_test)\r\n",
    "\r\n",
    "fig = plt.gcf()\r\n",
    "ax = plt.gca()\r\n",
    "\r\n",
    "ax.xaxis.set_ticklabels(['Low Risk','High Risk'])\r\n",
    "ax.yaxis.set_ticklabels(['Low Risk','High Risk'])"
   ],
   "outputs": [],
   "metadata": {}
  },
  {
   "cell_type": "markdown",
   "source": [
    "Run the cell below to see how many false positives and false negatives there were"
   ],
   "metadata": {}
  },
  {
   "cell_type": "code",
   "execution_count": null,
   "source": [
    "pred = model.predict(X_test)\r\n",
    "false_positives = 0\r\n",
    "false_negatives = 0\r\n",
    "for prediction, truth in zip(pred, y_test):\r\n",
    "    if truth == 1 and prediction == 0:\r\n",
    "        false_negatives += 1\r\n",
    "    if truth == 0 and prediction == 1:\r\n",
    "        false_positives += 1\r\n",
    "\r\n",
    "print(f\"False Positives: {false_positives}\")\r\n",
    "print(f\"False negatives: {false_negatives}\")"
   ],
   "outputs": [],
   "metadata": {}
  },
  {
   "cell_type": "markdown",
   "source": [
    "Run the cell below to see what the ROC_AUC score was"
   ],
   "metadata": {}
  },
  {
   "cell_type": "code",
   "execution_count": null,
   "source": [
    "from sklearn.metrics import roc_curve, plot_roc_curve\r\n",
    "roc_curve(y_test, model.predict_proba(X_test)[:,1])\r\n",
    "plot_roc_curve(model, X_test, y_test)"
   ],
   "outputs": [],
   "metadata": {}
  },
  {
   "cell_type": "markdown",
   "source": [
    "# Binary Classification (Rice)"
   ],
   "metadata": {}
  },
  {
   "cell_type": "markdown",
   "source": [
    "## Data Preperation\r\n",
    "Like all the previous dataset we will load in our rice data as rice_data. We will use this dataset to predict if the rice is Jasmine or is Gonen. (1 = Jasmine, 0 = Gonen). We will load in the data and then split it into training and test sets. "
   ],
   "metadata": {}
  },
  {
   "cell_type": "code",
   "execution_count": null,
   "source": [
    "rice_data = pd.read_csv('rice.csv')\r\n",
    "rice_data"
   ],
   "outputs": [],
   "metadata": {}
  },
  {
   "cell_type": "code",
   "execution_count": null,
   "source": [
    "X_train, X_test, y_train, y_test = prepare_data(rice_data, 'Class')"
   ],
   "outputs": [],
   "metadata": {}
  },
  {
   "cell_type": "markdown",
   "source": [
    "## Naive Rule Benchmark\r\n",
    "Before we do any ML, lets look at the Naive Model accuracy. If a model cant beat the accuracy of the Naive Model, then there is no point in looking at it further."
   ],
   "metadata": {}
  },
  {
   "cell_type": "code",
   "execution_count": null,
   "source": [
    "naive_rule_accuracy(y_train, y_test)"
   ],
   "outputs": [],
   "metadata": {}
  },
  {
   "cell_type": "markdown",
   "source": [
    "## Logistic Regression Model\r\n",
    "Now lets run a Logistic Regression Model and produce some evaluation metrics and the confusion matrix."
   ],
   "metadata": {}
  },
  {
   "cell_type": "code",
   "execution_count": null,
   "source": [
    "from sklearn.linear_model import LogisticRegression\r\n",
    "model = LogisticRegression()\r\n",
    "model.fit(X_train, y_train)\r\n",
    "evaluate(model, X_test, y_test)\r\n",
    "\r\n",
    "fig = plt.gcf()\r\n",
    "ax = plt.gca()\r\n",
    "\r\n",
    "ax.xaxis.set_ticklabels(['Gonen','Jasmine']); ax.yaxis.set_ticklabels(['Gonen','Jasmine']);"
   ],
   "outputs": [],
   "metadata": {}
  },
  {
   "cell_type": "markdown",
   "source": [
    "The cell below display's the ROC_AUC score and graph."
   ],
   "metadata": {}
  },
  {
   "cell_type": "code",
   "execution_count": null,
   "source": [
    "from sklearn.metrics import roc_curve, plot_roc_curve\r\n",
    "roc_curve(y_test, model.predict_proba(X_test)[:,1])\r\n",
    "plot_roc_curve(model, X_test, y_test)"
   ],
   "outputs": [],
   "metadata": {}
  },
  {
   "cell_type": "markdown",
   "source": [
    "# Classification (Crop Recommendation)"
   ],
   "metadata": {}
  },
  {
   "cell_type": "markdown",
   "source": [
    "## Data Preparation\r\n",
    "Now we will import the crop.csv dataset as crop_data. We will use this dataset to better predict the 'label' colunm. Run the cell below to see what the dataset looks like after it has been loaded."
   ],
   "metadata": {}
  },
  {
   "cell_type": "code",
   "execution_count": null,
   "source": [
    "crop_data = pd.read_csv('crops.csv')\r\n",
    "crop_data"
   ],
   "outputs": [],
   "metadata": {}
  },
  {
   "cell_type": "markdown",
   "source": [
    "Just like the heart dataset, we will now split this dataset into training and test sets. If you would like to see what these datasets look like, run the cell, open another cell below them and type in the name(s) of the dataset(s) you wish to see (see similar example with heart_data above)."
   ],
   "metadata": {}
  },
  {
   "cell_type": "code",
   "execution_count": null,
   "source": [
    "X_train, X_test, y_train, y_test = prepare_data(crop_data, 'label')"
   ],
   "outputs": [],
   "metadata": {}
  },
  {
   "cell_type": "markdown",
   "source": [
    "## Naive Rule Benchmark\r\n",
    "Before we do any ML, lets look at the Naive Model accuracy. If a model cant beat the accuracy of the Naive Model, then there is no point in looking at it further. The Naive Rule Benchmark for this problem will be very low, given it is a multi-class problem."
   ],
   "metadata": {}
  },
  {
   "cell_type": "code",
   "execution_count": null,
   "source": [
    "naive_rule_accuracy(y_train, y_test)"
   ],
   "outputs": [],
   "metadata": {}
  },
  {
   "cell_type": "markdown",
   "source": [
    "## Naive Bayes Model\r\n",
    "We will first use the Naive Bayes Model on our dataset. We are using the Gaussian Naive Bayes Model as our predictor variables are continous and not discrete. Click the cell below to run it and get a confusion matrix, as well as the accuracy, percision, recall, f1 score and roc_auc."
   ],
   "metadata": {}
  },
  {
   "cell_type": "code",
   "execution_count": null,
   "source": [
    "from sklearn.naive_bayes import GaussianNB\r\n",
    "model = GaussianNB()\r\n",
    "model.fit(X_train, y_train)\r\n",
    "evaluate(model, X_test, y_test)"
   ],
   "outputs": [],
   "metadata": {}
  },
  {
   "cell_type": "markdown",
   "source": [
    "## Sochastic Gradient Descent Model\r\n",
    "Now we will be running the Sochastic Gradient Descent Model. Click the cell below to produce the output and evaluate the model."
   ],
   "metadata": {}
  },
  {
   "cell_type": "code",
   "execution_count": null,
   "source": [
    "from sklearn.linear_model import SGDClassifier\r\n",
    "model = SGDClassifier()\r\n",
    "model.fit(X_train, y_train)\r\n",
    "evaluate(model, X_test, y_test)"
   ],
   "outputs": [],
   "metadata": {}
  },
  {
   "cell_type": "markdown",
   "source": [
    "## Perceptron Model\r\n",
    "Now we will be running the Sochastic Gradient Descent Model. Click the cell below to produce the output and evaluate the model."
   ],
   "metadata": {}
  },
  {
   "cell_type": "code",
   "execution_count": null,
   "source": [
    "from sklearn.linear_model import Perceptron\r\n",
    "model = Perceptron()\r\n",
    "model.fit(X_train, y_train)\r\n",
    "evaluate(model, X_test, y_test)"
   ],
   "outputs": [],
   "metadata": {}
  },
  {
   "cell_type": "markdown",
   "source": [
    "## Decision Tree Model\r\n",
    "Now we will be running a Decision Tree Model. Click the cell below to produce the output and evaluate the model."
   ],
   "metadata": {}
  },
  {
   "cell_type": "code",
   "execution_count": null,
   "source": [
    "from sklearn.tree import DecisionTreeClassifier\r\n",
    "model = DecisionTreeClassifier()\r\n",
    "model.fit(X_train, y_train)\r\n",
    "evaluate(model, X_test, y_test)"
   ],
   "outputs": [],
   "metadata": {}
  },
  {
   "cell_type": "markdown",
   "source": [
    "## XGBoost Model\r\n",
    "Now we will be running a XGBoost Model. Click the cell below to produce the output and evaluate the model."
   ],
   "metadata": {}
  },
  {
   "cell_type": "code",
   "execution_count": null,
   "source": [
    "model = xgb.XGBClassifier()\r\n",
    "model.fit(X_train, y_train)\r\n",
    "evaluate(model, X_test, y_test)"
   ],
   "outputs": [],
   "metadata": {}
  },
  {
   "cell_type": "markdown",
   "source": [
    "# Hyperparameter Tuning\r\n",
    "We will use python to optimize the hyperparameters of our SGD Classifier. We want to see if through hyperparameter tuning we can improve the performance of the model. We will be using the same crop dataset as we used for the first SGD Model, so we will start by splitting the dataset again. "
   ],
   "metadata": {}
  },
  {
   "cell_type": "code",
   "execution_count": null,
   "source": [
    "X_train, X_test, y_train, y_test = prepare_data(crop_data, 'label')"
   ],
   "outputs": [],
   "metadata": {}
  },
  {
   "cell_type": "markdown",
   "source": [
    "Now let us write in the hyperparameter tuning function. In the param_grid we will be defining the various parameters we discussed in the slide. Run the 2 cells below to tune the model hyperparameters, the cells following will display the results of the tuning."
   ],
   "metadata": {}
  },
  {
   "cell_type": "code",
   "execution_count": null,
   "source": [
    "from sklearn.model_selection import GridSearchCV\r\n",
    "param_grid = {\r\n",
    "    \"penalty\": ['l1', 'l2', 'elasticnet'], # The various options to put a penalty on errors (also known as regularization)\r\n",
    "    \"alpha\": [0.0001, 0.001, 0.01], # The constant that multiplies the regularization term. The higher the value the, the stronger the penalty\r\n",
    "    \"eta0\": [0.001, 0.01, 0.1], # The initial learning rate for the model. Will change with adaptive learning\r\n",
    "    \"learning_rate\": ['constant', 'adaptive'] # Does the model keep the learning rate constant or change as it runs \r\n",
    "}\r\n",
    "grid_cv = GridSearchCV(SGDClassifier(), param_grid, n_jobs=-1, cv=5, scoring=\"f1_weighted\")\r\n",
    "# n_jobs = means the number of jobs to run in parallel, -1 means use all processors\r\n",
    "# cv = cross validation, how many folds\r\n",
    "# scoring = what we will be scoring the model on, in our case it will be the weighted f1 score."
   ],
   "outputs": [],
   "metadata": {}
  },
  {
   "cell_type": "code",
   "execution_count": null,
   "source": [
    "grid_cv.fit(X_train, y_train)"
   ],
   "outputs": [],
   "metadata": {}
  },
  {
   "cell_type": "markdown",
   "source": [
    "Run the cell below to see what is the best score produced by the optimal set of hyperparameters."
   ],
   "metadata": {}
  },
  {
   "cell_type": "code",
   "execution_count": null,
   "source": [
    "grid_cv.best_score_"
   ],
   "outputs": [],
   "metadata": {}
  },
  {
   "cell_type": "markdown",
   "source": [
    "Run the cell below to find out which combination of hyperparameters turned out to be the best."
   ],
   "metadata": {}
  },
  {
   "cell_type": "code",
   "execution_count": null,
   "source": [
    "grid_cv.best_params_"
   ],
   "outputs": [],
   "metadata": {}
  },
  {
   "cell_type": "markdown",
   "source": [
    "Run both the cells below to evaluate the model with the optimal set of hyperparameters and see what the performance stats look like above. You will notice a significant improvement in the accuracy of the model."
   ],
   "metadata": {}
  },
  {
   "cell_type": "code",
   "execution_count": null,
   "source": [
    "model = grid_cv.best_estimator_"
   ],
   "outputs": [],
   "metadata": {}
  },
  {
   "cell_type": "code",
   "execution_count": null,
   "source": [
    "evaluate(model, X_test, y_test)"
   ],
   "outputs": [],
   "metadata": {}
  },
  {
   "cell_type": "markdown",
   "source": [
    "# Feature Scaling\r\n",
    "We want to see if our model preforms any better if we standardize or normalize the data. Just like before we will be using our crop data and splitting into training and test sets. We will be using the same SGD classifier because that model had some room for improvement. We want to see if either standardization or normalization will improve the model."
   ],
   "metadata": {}
  },
  {
   "cell_type": "markdown",
   "source": [
    "## Data Prep\r\n",
    "First step is to split the data into training and test sets"
   ],
   "metadata": {}
  },
  {
   "cell_type": "code",
   "execution_count": null,
   "source": [
    "X_train, X_test, y_train, y_test = prepare_data(crop_data, 'label')"
   ],
   "outputs": [],
   "metadata": {}
  },
  {
   "cell_type": "markdown",
   "source": [
    "Now we will scale the data. We are going to both normalize the data and standardize it."
   ],
   "metadata": {}
  },
  {
   "cell_type": "code",
   "execution_count": null,
   "source": [
    "from sklearn.preprocessing import StandardScaler, MinMaxScaler\r\n",
    "\r\n",
    "X = crop_data.drop(\"label\", axis=1)\r\n",
    "y = crop_data[\"label\"]\r\n",
    "\r\n",
    "standard_scaler = StandardScaler()\r\n",
    "standard_scaler.fit(X)\r\n",
    "X_s_scaled = pd.DataFrame(standard_scaler.transform(X), columns=X.columns)\r\n",
    "\r\n",
    "minmax_scaler = MinMaxScaler()\r\n",
    "minmax_scaler.fit(X)\r\n",
    "X_mm_scaled = pd.DataFrame(minmax_scaler.transform(X), columns=X.columns)\r\n",
    "with pd.option_context('display.float_format', lambda x: '%.3f' % x):  \r\n",
    "    print(\"Unscaled Data:\") \r\n",
    "    display(X.describe())\r\n",
    "    print(\"Standardized Data:\")\r\n",
    "    display(X_s_scaled.describe())\r\n",
    "    print(\"Normalized Data:\")\r\n",
    "    display(X_mm_scaled.describe())"
   ],
   "outputs": [],
   "metadata": {}
  },
  {
   "cell_type": "markdown",
   "source": [
    "## Unscaled Data\r\n",
    "We are going to run the same model on the three datasets above and see which one comes out with the best performance. All of them are SGD Models and we will see the confusion matrix, accuracy, percision, recall and the f1 score."
   ],
   "metadata": {}
  },
  {
   "cell_type": "code",
   "execution_count": null,
   "source": [
    "X_train, X_test, y_train, y_test = train_test_split(X, y, test_size=0.2, random_state=42)\r\n",
    "model = SGDClassifier()\r\n",
    "model.fit(X_train, y_train)\r\n",
    "evaluate(model, X_test, y_test)"
   ],
   "outputs": [],
   "metadata": {}
  },
  {
   "cell_type": "markdown",
   "source": [
    "## Standardized Data"
   ],
   "metadata": {}
  },
  {
   "cell_type": "code",
   "execution_count": null,
   "source": [
    "X_train, X_test, y_train, y_test = train_test_split(X_s_scaled, y, test_size=0.2, random_state=42)\r\n",
    "model = SGDClassifier()\r\n",
    "model.fit(X_train, y_train)\r\n",
    "evaluate(model, X_test, y_test)"
   ],
   "outputs": [],
   "metadata": {}
  },
  {
   "cell_type": "markdown",
   "source": [
    "## Normalized Data"
   ],
   "metadata": {}
  },
  {
   "cell_type": "code",
   "execution_count": null,
   "source": [
    "X_train, X_test, y_train, y_test = train_test_split(X_mm_scaled, y, test_size=0.2, random_state=42)\r\n",
    "model = SGDClassifier()\r\n",
    "model.fit(X_train, y_train)\r\n",
    "evaluate(model, X_test, y_test)"
   ],
   "outputs": [],
   "metadata": {}
  },
  {
   "cell_type": "markdown",
   "source": [
    "# SHAP Values\r\n",
    "To understand the importance of predictor variable will have on the outcome, we can use the SHAP package in python. We want to know how the predictors affect the outcome for our crop dataset with an XGBoost model so we will first train an XGBoost Model with that data again then see the shap values."
   ],
   "metadata": {}
  },
  {
   "cell_type": "code",
   "execution_count": null,
   "source": [
    "import shap"
   ],
   "outputs": [],
   "metadata": {}
  },
  {
   "cell_type": "markdown",
   "source": [
    "Split the dataset into training and test sets, like before."
   ],
   "metadata": {}
  },
  {
   "cell_type": "code",
   "execution_count": null,
   "source": [
    "X_train, X_test, y_train, y_test = prepare_data(crop_data, 'label')"
   ],
   "outputs": [],
   "metadata": {}
  },
  {
   "cell_type": "markdown",
   "source": [
    "Let us now train and evaluate the model, same as we did once before."
   ],
   "metadata": {}
  },
  {
   "cell_type": "code",
   "execution_count": null,
   "source": [
    "model = xgb.XGBClassifier()\r\n",
    "model.fit(X_train, y_train)\r\n",
    "evaluate(model, X_test, y_test)"
   ],
   "outputs": [],
   "metadata": {}
  },
  {
   "cell_type": "markdown",
   "source": [
    "Run the two cell below to calculate the SHAP values. It may take a couple minutes to complete."
   ],
   "metadata": {}
  },
  {
   "cell_type": "code",
   "execution_count": null,
   "source": [
    "explainer = shap.Explainer(model, X_train)\r\n",
    "shap_values = explainer(X_train)"
   ],
   "outputs": [],
   "metadata": {}
  },
  {
   "cell_type": "markdown",
   "source": [
    "Run the cell below to see a bar plot of the SHAP values for each outcome. You will notice that after a comma there is a number from 0 - 21. That number represents one of the 22 outcomes the target variable could take and the graph will represent the importance of the features that will lead to that specific outcome. To see how the SHAP values change with each target class, change the number from what is with anything in between 0 and 21."
   ],
   "metadata": {}
  },
  {
   "cell_type": "code",
   "execution_count": null,
   "source": [
    "shap.plots.bar(shap_values[...,21], show=False)\r\n",
    "fig = plt.gcf()\r\n",
    "ax = plt.gca()\r\n",
    "fig.set_figheight(11)\r\n",
    "fig.set_figwidth(11)\r\n",
    "font_dict = {'size':16}\r\n",
    "font_dict_title = {'size':18}\r\n",
    "fig.patch.set_facecolor('xkcd:light grey')\r\n",
    "plt.xlabel('Mean Shap Value for Target Variable',font_dict)\r\n",
    "plt.ylabel('Predictor Variables', font_dict)\r\n",
    "plt.title('SHAP Values for Crop Classification', font_dict_title)\r\n",
    "plt.show()"
   ],
   "outputs": [],
   "metadata": {}
  }
 ],
 "metadata": {
  "instance_type": "ml.m5.large",
  "kernelspec": {
   "name": "python3",
   "display_name": "Python 3.6.12 64-bit ('AWS': conda)"
  },
  "language_info": {
   "name": "python",
   "version": "3.6.12",
   "mimetype": "text/x-python",
   "codemirror_mode": {
    "name": "ipython",
    "version": 3
   },
   "pygments_lexer": "ipython3",
   "nbconvert_exporter": "python",
   "file_extension": ".py"
  },
  "interpreter": {
   "hash": "5548450a1352afa305e3f4a4f6905490e400aa9dcb629f43c17cbb102a731220"
  }
 },
 "nbformat": 4,
 "nbformat_minor": 4
}